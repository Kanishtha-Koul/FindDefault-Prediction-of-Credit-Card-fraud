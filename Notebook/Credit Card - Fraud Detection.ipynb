{
 "cells": [
  {
   "cell_type": "code",
   "execution_count": 3,
   "id": "87716466-0d0f-4cf0-b614-ca6317a9a830",
   "metadata": {},
   "outputs": [],
   "source": [
    "import pandas as pd\n",
    "import numpy as np\n",
    "import seaborn as sns\n",
    "import matplotlib.pyplot as plt\n",
    "\n",
    "%matplotlib inline\n",
    "plt.style.use('ggplot')"
   ]
  },
  {
   "cell_type": "markdown",
   "id": "b66d9501-f516-4b1e-8134-d017a0f7cc9d",
   "metadata": {},
   "source": [
    "**Import the creditcard.csv data**"
   ]
  },
  {
   "cell_type": "code",
   "execution_count": 4,
   "id": "2aa2af08-8b37-4940-9579-b48098a83c80",
   "metadata": {},
   "outputs": [],
   "source": [
    "df = pd.read_csv(\"E:\\\\1.DS\\\\Capstone\\\\creditcard.csv\")"
   ]
  },
  {
   "cell_type": "code",
   "execution_count": 9,
   "id": "89c3d251-2ece-4838-8e64-2a8aed3b59eb",
   "metadata": {},
   "outputs": [
    {
     "data": {
      "text/html": [
       "<div>\n",
       "<style scoped>\n",
       "    .dataframe tbody tr th:only-of-type {\n",
       "        vertical-align: middle;\n",
       "    }\n",
       "\n",
       "    .dataframe tbody tr th {\n",
       "        vertical-align: top;\n",
       "    }\n",
       "\n",
       "    .dataframe thead th {\n",
       "        text-align: right;\n",
       "    }\n",
       "</style>\n",
       "<table border=\"1\" class=\"dataframe\">\n",
       "  <thead>\n",
       "    <tr style=\"text-align: right;\">\n",
       "      <th></th>\n",
       "      <th>Time</th>\n",
       "      <th>V1</th>\n",
       "      <th>V2</th>\n",
       "      <th>V3</th>\n",
       "      <th>V4</th>\n",
       "      <th>V5</th>\n",
       "      <th>V6</th>\n",
       "      <th>V7</th>\n",
       "      <th>V8</th>\n",
       "      <th>V9</th>\n",
       "      <th>...</th>\n",
       "      <th>V21</th>\n",
       "      <th>V22</th>\n",
       "      <th>V23</th>\n",
       "      <th>V24</th>\n",
       "      <th>V25</th>\n",
       "      <th>V26</th>\n",
       "      <th>V27</th>\n",
       "      <th>V28</th>\n",
       "      <th>Amount</th>\n",
       "      <th>Class</th>\n",
       "    </tr>\n",
       "  </thead>\n",
       "  <tbody>\n",
       "    <tr>\n",
       "      <th>0</th>\n",
       "      <td>0.0</td>\n",
       "      <td>-1.359807</td>\n",
       "      <td>-0.072781</td>\n",
       "      <td>2.536347</td>\n",
       "      <td>1.378155</td>\n",
       "      <td>-0.338321</td>\n",
       "      <td>0.462388</td>\n",
       "      <td>0.239599</td>\n",
       "      <td>0.098698</td>\n",
       "      <td>0.363787</td>\n",
       "      <td>...</td>\n",
       "      <td>-0.018307</td>\n",
       "      <td>0.277838</td>\n",
       "      <td>-0.110474</td>\n",
       "      <td>0.066928</td>\n",
       "      <td>0.128539</td>\n",
       "      <td>-0.189115</td>\n",
       "      <td>0.133558</td>\n",
       "      <td>-0.021053</td>\n",
       "      <td>149.62</td>\n",
       "      <td>0</td>\n",
       "    </tr>\n",
       "    <tr>\n",
       "      <th>1</th>\n",
       "      <td>0.0</td>\n",
       "      <td>1.191857</td>\n",
       "      <td>0.266151</td>\n",
       "      <td>0.166480</td>\n",
       "      <td>0.448154</td>\n",
       "      <td>0.060018</td>\n",
       "      <td>-0.082361</td>\n",
       "      <td>-0.078803</td>\n",
       "      <td>0.085102</td>\n",
       "      <td>-0.255425</td>\n",
       "      <td>...</td>\n",
       "      <td>-0.225775</td>\n",
       "      <td>-0.638672</td>\n",
       "      <td>0.101288</td>\n",
       "      <td>-0.339846</td>\n",
       "      <td>0.167170</td>\n",
       "      <td>0.125895</td>\n",
       "      <td>-0.008983</td>\n",
       "      <td>0.014724</td>\n",
       "      <td>2.69</td>\n",
       "      <td>0</td>\n",
       "    </tr>\n",
       "    <tr>\n",
       "      <th>2</th>\n",
       "      <td>1.0</td>\n",
       "      <td>-1.358354</td>\n",
       "      <td>-1.340163</td>\n",
       "      <td>1.773209</td>\n",
       "      <td>0.379780</td>\n",
       "      <td>-0.503198</td>\n",
       "      <td>1.800499</td>\n",
       "      <td>0.791461</td>\n",
       "      <td>0.247676</td>\n",
       "      <td>-1.514654</td>\n",
       "      <td>...</td>\n",
       "      <td>0.247998</td>\n",
       "      <td>0.771679</td>\n",
       "      <td>0.909412</td>\n",
       "      <td>-0.689281</td>\n",
       "      <td>-0.327642</td>\n",
       "      <td>-0.139097</td>\n",
       "      <td>-0.055353</td>\n",
       "      <td>-0.059752</td>\n",
       "      <td>378.66</td>\n",
       "      <td>0</td>\n",
       "    </tr>\n",
       "    <tr>\n",
       "      <th>3</th>\n",
       "      <td>1.0</td>\n",
       "      <td>-0.966272</td>\n",
       "      <td>-0.185226</td>\n",
       "      <td>1.792993</td>\n",
       "      <td>-0.863291</td>\n",
       "      <td>-0.010309</td>\n",
       "      <td>1.247203</td>\n",
       "      <td>0.237609</td>\n",
       "      <td>0.377436</td>\n",
       "      <td>-1.387024</td>\n",
       "      <td>...</td>\n",
       "      <td>-0.108300</td>\n",
       "      <td>0.005274</td>\n",
       "      <td>-0.190321</td>\n",
       "      <td>-1.175575</td>\n",
       "      <td>0.647376</td>\n",
       "      <td>-0.221929</td>\n",
       "      <td>0.062723</td>\n",
       "      <td>0.061458</td>\n",
       "      <td>123.50</td>\n",
       "      <td>0</td>\n",
       "    </tr>\n",
       "    <tr>\n",
       "      <th>4</th>\n",
       "      <td>2.0</td>\n",
       "      <td>-1.158233</td>\n",
       "      <td>0.877737</td>\n",
       "      <td>1.548718</td>\n",
       "      <td>0.403034</td>\n",
       "      <td>-0.407193</td>\n",
       "      <td>0.095921</td>\n",
       "      <td>0.592941</td>\n",
       "      <td>-0.270533</td>\n",
       "      <td>0.817739</td>\n",
       "      <td>...</td>\n",
       "      <td>-0.009431</td>\n",
       "      <td>0.798278</td>\n",
       "      <td>-0.137458</td>\n",
       "      <td>0.141267</td>\n",
       "      <td>-0.206010</td>\n",
       "      <td>0.502292</td>\n",
       "      <td>0.219422</td>\n",
       "      <td>0.215153</td>\n",
       "      <td>69.99</td>\n",
       "      <td>0</td>\n",
       "    </tr>\n",
       "    <tr>\n",
       "      <th>...</th>\n",
       "      <td>...</td>\n",
       "      <td>...</td>\n",
       "      <td>...</td>\n",
       "      <td>...</td>\n",
       "      <td>...</td>\n",
       "      <td>...</td>\n",
       "      <td>...</td>\n",
       "      <td>...</td>\n",
       "      <td>...</td>\n",
       "      <td>...</td>\n",
       "      <td>...</td>\n",
       "      <td>...</td>\n",
       "      <td>...</td>\n",
       "      <td>...</td>\n",
       "      <td>...</td>\n",
       "      <td>...</td>\n",
       "      <td>...</td>\n",
       "      <td>...</td>\n",
       "      <td>...</td>\n",
       "      <td>...</td>\n",
       "      <td>...</td>\n",
       "    </tr>\n",
       "    <tr>\n",
       "      <th>284802</th>\n",
       "      <td>172786.0</td>\n",
       "      <td>-11.881118</td>\n",
       "      <td>10.071785</td>\n",
       "      <td>-9.834783</td>\n",
       "      <td>-2.066656</td>\n",
       "      <td>-5.364473</td>\n",
       "      <td>-2.606837</td>\n",
       "      <td>-4.918215</td>\n",
       "      <td>7.305334</td>\n",
       "      <td>1.914428</td>\n",
       "      <td>...</td>\n",
       "      <td>0.213454</td>\n",
       "      <td>0.111864</td>\n",
       "      <td>1.014480</td>\n",
       "      <td>-0.509348</td>\n",
       "      <td>1.436807</td>\n",
       "      <td>0.250034</td>\n",
       "      <td>0.943651</td>\n",
       "      <td>0.823731</td>\n",
       "      <td>0.77</td>\n",
       "      <td>0</td>\n",
       "    </tr>\n",
       "    <tr>\n",
       "      <th>284803</th>\n",
       "      <td>172787.0</td>\n",
       "      <td>-0.732789</td>\n",
       "      <td>-0.055080</td>\n",
       "      <td>2.035030</td>\n",
       "      <td>-0.738589</td>\n",
       "      <td>0.868229</td>\n",
       "      <td>1.058415</td>\n",
       "      <td>0.024330</td>\n",
       "      <td>0.294869</td>\n",
       "      <td>0.584800</td>\n",
       "      <td>...</td>\n",
       "      <td>0.214205</td>\n",
       "      <td>0.924384</td>\n",
       "      <td>0.012463</td>\n",
       "      <td>-1.016226</td>\n",
       "      <td>-0.606624</td>\n",
       "      <td>-0.395255</td>\n",
       "      <td>0.068472</td>\n",
       "      <td>-0.053527</td>\n",
       "      <td>24.79</td>\n",
       "      <td>0</td>\n",
       "    </tr>\n",
       "    <tr>\n",
       "      <th>284804</th>\n",
       "      <td>172788.0</td>\n",
       "      <td>1.919565</td>\n",
       "      <td>-0.301254</td>\n",
       "      <td>-3.249640</td>\n",
       "      <td>-0.557828</td>\n",
       "      <td>2.630515</td>\n",
       "      <td>3.031260</td>\n",
       "      <td>-0.296827</td>\n",
       "      <td>0.708417</td>\n",
       "      <td>0.432454</td>\n",
       "      <td>...</td>\n",
       "      <td>0.232045</td>\n",
       "      <td>0.578229</td>\n",
       "      <td>-0.037501</td>\n",
       "      <td>0.640134</td>\n",
       "      <td>0.265745</td>\n",
       "      <td>-0.087371</td>\n",
       "      <td>0.004455</td>\n",
       "      <td>-0.026561</td>\n",
       "      <td>67.88</td>\n",
       "      <td>0</td>\n",
       "    </tr>\n",
       "    <tr>\n",
       "      <th>284805</th>\n",
       "      <td>172788.0</td>\n",
       "      <td>-0.240440</td>\n",
       "      <td>0.530483</td>\n",
       "      <td>0.702510</td>\n",
       "      <td>0.689799</td>\n",
       "      <td>-0.377961</td>\n",
       "      <td>0.623708</td>\n",
       "      <td>-0.686180</td>\n",
       "      <td>0.679145</td>\n",
       "      <td>0.392087</td>\n",
       "      <td>...</td>\n",
       "      <td>0.265245</td>\n",
       "      <td>0.800049</td>\n",
       "      <td>-0.163298</td>\n",
       "      <td>0.123205</td>\n",
       "      <td>-0.569159</td>\n",
       "      <td>0.546668</td>\n",
       "      <td>0.108821</td>\n",
       "      <td>0.104533</td>\n",
       "      <td>10.00</td>\n",
       "      <td>0</td>\n",
       "    </tr>\n",
       "    <tr>\n",
       "      <th>284806</th>\n",
       "      <td>172792.0</td>\n",
       "      <td>-0.533413</td>\n",
       "      <td>-0.189733</td>\n",
       "      <td>0.703337</td>\n",
       "      <td>-0.506271</td>\n",
       "      <td>-0.012546</td>\n",
       "      <td>-0.649617</td>\n",
       "      <td>1.577006</td>\n",
       "      <td>-0.414650</td>\n",
       "      <td>0.486180</td>\n",
       "      <td>...</td>\n",
       "      <td>0.261057</td>\n",
       "      <td>0.643078</td>\n",
       "      <td>0.376777</td>\n",
       "      <td>0.008797</td>\n",
       "      <td>-0.473649</td>\n",
       "      <td>-0.818267</td>\n",
       "      <td>-0.002415</td>\n",
       "      <td>0.013649</td>\n",
       "      <td>217.00</td>\n",
       "      <td>0</td>\n",
       "    </tr>\n",
       "  </tbody>\n",
       "</table>\n",
       "<p>284807 rows × 31 columns</p>\n",
       "</div>"
      ],
      "text/plain": [
       "            Time         V1         V2        V3        V4        V5  \\\n",
       "0            0.0  -1.359807  -0.072781  2.536347  1.378155 -0.338321   \n",
       "1            0.0   1.191857   0.266151  0.166480  0.448154  0.060018   \n",
       "2            1.0  -1.358354  -1.340163  1.773209  0.379780 -0.503198   \n",
       "3            1.0  -0.966272  -0.185226  1.792993 -0.863291 -0.010309   \n",
       "4            2.0  -1.158233   0.877737  1.548718  0.403034 -0.407193   \n",
       "...          ...        ...        ...       ...       ...       ...   \n",
       "284802  172786.0 -11.881118  10.071785 -9.834783 -2.066656 -5.364473   \n",
       "284803  172787.0  -0.732789  -0.055080  2.035030 -0.738589  0.868229   \n",
       "284804  172788.0   1.919565  -0.301254 -3.249640 -0.557828  2.630515   \n",
       "284805  172788.0  -0.240440   0.530483  0.702510  0.689799 -0.377961   \n",
       "284806  172792.0  -0.533413  -0.189733  0.703337 -0.506271 -0.012546   \n",
       "\n",
       "              V6        V7        V8        V9  ...       V21       V22  \\\n",
       "0       0.462388  0.239599  0.098698  0.363787  ... -0.018307  0.277838   \n",
       "1      -0.082361 -0.078803  0.085102 -0.255425  ... -0.225775 -0.638672   \n",
       "2       1.800499  0.791461  0.247676 -1.514654  ...  0.247998  0.771679   \n",
       "3       1.247203  0.237609  0.377436 -1.387024  ... -0.108300  0.005274   \n",
       "4       0.095921  0.592941 -0.270533  0.817739  ... -0.009431  0.798278   \n",
       "...          ...       ...       ...       ...  ...       ...       ...   \n",
       "284802 -2.606837 -4.918215  7.305334  1.914428  ...  0.213454  0.111864   \n",
       "284803  1.058415  0.024330  0.294869  0.584800  ...  0.214205  0.924384   \n",
       "284804  3.031260 -0.296827  0.708417  0.432454  ...  0.232045  0.578229   \n",
       "284805  0.623708 -0.686180  0.679145  0.392087  ...  0.265245  0.800049   \n",
       "284806 -0.649617  1.577006 -0.414650  0.486180  ...  0.261057  0.643078   \n",
       "\n",
       "             V23       V24       V25       V26       V27       V28  Amount  \\\n",
       "0      -0.110474  0.066928  0.128539 -0.189115  0.133558 -0.021053  149.62   \n",
       "1       0.101288 -0.339846  0.167170  0.125895 -0.008983  0.014724    2.69   \n",
       "2       0.909412 -0.689281 -0.327642 -0.139097 -0.055353 -0.059752  378.66   \n",
       "3      -0.190321 -1.175575  0.647376 -0.221929  0.062723  0.061458  123.50   \n",
       "4      -0.137458  0.141267 -0.206010  0.502292  0.219422  0.215153   69.99   \n",
       "...          ...       ...       ...       ...       ...       ...     ...   \n",
       "284802  1.014480 -0.509348  1.436807  0.250034  0.943651  0.823731    0.77   \n",
       "284803  0.012463 -1.016226 -0.606624 -0.395255  0.068472 -0.053527   24.79   \n",
       "284804 -0.037501  0.640134  0.265745 -0.087371  0.004455 -0.026561   67.88   \n",
       "284805 -0.163298  0.123205 -0.569159  0.546668  0.108821  0.104533   10.00   \n",
       "284806  0.376777  0.008797 -0.473649 -0.818267 -0.002415  0.013649  217.00   \n",
       "\n",
       "        Class  \n",
       "0           0  \n",
       "1           0  \n",
       "2           0  \n",
       "3           0  \n",
       "4           0  \n",
       "...       ...  \n",
       "284802      0  \n",
       "284803      0  \n",
       "284804      0  \n",
       "284805      0  \n",
       "284806      0  \n",
       "\n",
       "[284807 rows x 31 columns]"
      ]
     },
     "execution_count": 9,
     "metadata": {},
     "output_type": "execute_result"
    }
   ],
   "source": [
    "df"
   ]
  },
  {
   "cell_type": "code",
   "execution_count": 10,
   "id": "d0fbc71b-58bd-4db2-a004-49d7557fd66c",
   "metadata": {},
   "outputs": [
    {
     "name": "stdout",
     "output_type": "stream",
     "text": [
      "<class 'pandas.core.frame.DataFrame'>\n",
      "RangeIndex: 284807 entries, 0 to 284806\n",
      "Data columns (total 31 columns):\n",
      " #   Column  Non-Null Count   Dtype  \n",
      "---  ------  --------------   -----  \n",
      " 0   Time    284807 non-null  float64\n",
      " 1   V1      284807 non-null  float64\n",
      " 2   V2      284807 non-null  float64\n",
      " 3   V3      284807 non-null  float64\n",
      " 4   V4      284807 non-null  float64\n",
      " 5   V5      284807 non-null  float64\n",
      " 6   V6      284807 non-null  float64\n",
      " 7   V7      284807 non-null  float64\n",
      " 8   V8      284807 non-null  float64\n",
      " 9   V9      284807 non-null  float64\n",
      " 10  V10     284807 non-null  float64\n",
      " 11  V11     284807 non-null  float64\n",
      " 12  V12     284807 non-null  float64\n",
      " 13  V13     284807 non-null  float64\n",
      " 14  V14     284807 non-null  float64\n",
      " 15  V15     284807 non-null  float64\n",
      " 16  V16     284807 non-null  float64\n",
      " 17  V17     284807 non-null  float64\n",
      " 18  V18     284807 non-null  float64\n",
      " 19  V19     284807 non-null  float64\n",
      " 20  V20     284807 non-null  float64\n",
      " 21  V21     284807 non-null  float64\n",
      " 22  V22     284807 non-null  float64\n",
      " 23  V23     284807 non-null  float64\n",
      " 24  V24     284807 non-null  float64\n",
      " 25  V25     284807 non-null  float64\n",
      " 26  V26     284807 non-null  float64\n",
      " 27  V27     284807 non-null  float64\n",
      " 28  V28     284807 non-null  float64\n",
      " 29  Amount  284807 non-null  float64\n",
      " 30  Class   284807 non-null  int64  \n",
      "dtypes: float64(30), int64(1)\n",
      "memory usage: 67.4 MB\n"
     ]
    }
   ],
   "source": [
    "df.info()"
   ]
  },
  {
   "cell_type": "code",
   "execution_count": 12,
   "id": "eb6bdd29-8784-4c51-bedc-cfbb338174fc",
   "metadata": {},
   "outputs": [
    {
     "data": {
      "text/plain": [
       "Time      0\n",
       "V1        0\n",
       "V2        0\n",
       "V3        0\n",
       "V4        0\n",
       "V5        0\n",
       "V6        0\n",
       "V7        0\n",
       "V8        0\n",
       "V9        0\n",
       "V10       0\n",
       "V11       0\n",
       "V12       0\n",
       "V13       0\n",
       "V14       0\n",
       "V15       0\n",
       "V16       0\n",
       "V17       0\n",
       "V18       0\n",
       "V19       0\n",
       "V20       0\n",
       "V21       0\n",
       "V22       0\n",
       "V23       0\n",
       "V24       0\n",
       "V25       0\n",
       "V26       0\n",
       "V27       0\n",
       "V28       0\n",
       "Amount    0\n",
       "Class     0\n",
       "dtype: int64"
      ]
     },
     "execution_count": 12,
     "metadata": {},
     "output_type": "execute_result"
    }
   ],
   "source": [
    "df.isnull().sum()"
   ]
  },
  {
   "cell_type": "code",
   "execution_count": 13,
   "id": "1b30afda-d30a-4481-94b7-2dc3460062d5",
   "metadata": {},
   "outputs": [],
   "source": [
    "plt.rcParams['figure.figsize']=[8,6]"
   ]
  },
  {
   "cell_type": "code",
   "execution_count": 14,
   "id": "1df5fe47-01b6-48fa-bba8-1e7cbd6c4188",
   "metadata": {},
   "outputs": [
    {
     "data": {
      "text/plain": [
       "Class\n",
       "0    284315\n",
       "1       492\n",
       "Name: count, dtype: int64"
      ]
     },
     "execution_count": 14,
     "metadata": {},
     "output_type": "execute_result"
    }
   ],
   "source": [
    "Class = df['Class'].value_counts()\n",
    "Class"
   ]
  },
  {
   "cell_type": "markdown",
   "id": "aa0919c2-9e02-4ad2-b05d-262023d6ac22",
   "metadata": {},
   "source": [
    "**The barplot will reveals a significant imbalance between classes (0-Non Fradulent) and (1-Fraudulent).**"
   ]
  },
  {
   "cell_type": "code",
   "execution_count": 15,
   "id": "1dcfa8cf-507a-4547-8ffb-17d4a8596aa9",
   "metadata": {},
   "outputs": [
    {
     "data": {
      "image/png": "[encoded data removed]",
      "text/plain": [
       "<Figure size 800x600 with 1 Axes>"
      ]
     },
     "metadata": {},
     "output_type": "display_data"
    }
   ],
   "source": [
    "labels = ['Non Fradulent','Fraudulent']\n",
    "plt.bar(labels, Class.values, color=['Blue','Green'])\n",
    "plt.title(\"Non-Fraudulent Vs Fraudulent Transactions\")\n",
    "plt.xlabel('Class')\n",
    "plt.ylabel('Count')\n",
    "plt.savefig(\"Non-Fraudulent Vs Fraudulent Transactions\")\n",
    "plt.show()"
   ]
  },
  {
   "cell_type": "markdown",
   "id": "7b364a9f-b063-461a-a61c-ef1eb8558d42",
   "metadata": {},
   "source": [
    "**Most features are represented in PCA (Principal Component Analysis) form, except for Time and Amount. These two features require a more thorough examination.**"
   ]
  },
  {
   "cell_type": "code",
   "execution_count": 16,
   "id": "79ded5b7-0007-4a18-b90f-3b40bba1f1e1",
   "metadata": {},
   "outputs": [
    {
     "data": {
      "text/plain": [
       "count    284807.000000\n",
       "mean      94813.859575\n",
       "std       47488.145955\n",
       "min           0.000000\n",
       "25%       54201.500000\n",
       "50%       84692.000000\n",
       "75%      139320.500000\n",
       "max      172792.000000\n",
       "Name: Time, dtype: float64"
      ]
     },
     "execution_count": 16,
     "metadata": {},
     "output_type": "execute_result"
    }
   ],
   "source": [
    "df['Time'].describe()"
   ]
  },
  {
   "cell_type": "code",
   "execution_count": 17,
   "id": "4f5b9913-3bf3-4bf6-804e-d835a4c07c9c",
   "metadata": {},
   "outputs": [
    {
     "data": {
      "text/plain": [
       "count    284807.000000\n",
       "mean         88.349619\n",
       "std         250.120109\n",
       "min           0.000000\n",
       "25%           5.600000\n",
       "50%          22.000000\n",
       "75%          77.165000\n",
       "max       25691.160000\n",
       "Name: Amount, dtype: float64"
      ]
     },
     "execution_count": 17,
     "metadata": {},
     "output_type": "execute_result"
    }
   ],
   "source": [
    "df['Amount'].describe()"
   ]
  },
  {
   "cell_type": "markdown",
   "id": "9817811c-139b-4ebf-a883-87b1f00d2bc2",
   "metadata": {},
   "source": [
    "**Next, we will examine the frequency of each class label and visualize the distribution using Matplotlib.**"
   ]
  },
  {
   "cell_type": "code",
   "execution_count": 18,
   "id": "5e07e8d8-3152-4e3a-a200-34ce9c93c8c2",
   "metadata": {},
   "outputs": [],
   "source": [
    "non_fraud = len(df[df.Class==0])\n",
    "fraud = len(df[df.Class==1])\n",
    "fraud_percentage = round((fraud/ (fraud+ non_fraud)) * 100, 2)"
   ]
  },
  {
   "cell_type": "code",
   "execution_count": 19,
   "id": "5af69417-c77f-426c-8e69-2b9d15ab840f",
   "metadata": {},
   "outputs": [
    {
     "name": "stdout",
     "output_type": "stream",
     "text": [
      "Number of Non-Fraudulent Transactions:  284315\n",
      "Number of Fraudulent Transactions:  492\n",
      "Percentage of Fraudulent Transactions:  0.17\n"
     ]
    }
   ],
   "source": [
    "print(\"Number of Non-Fraudulent Transactions: \",non_fraud)\n",
    "print(\"Number of Fraudulent Transactions: \", fraud)\n",
    "print(\"Percentage of Fraudulent Transactions: \",fraud_percentage)"
   ]
  },
  {
   "cell_type": "markdown",
   "id": "5ad5272c-21ff-4012-b76a-384c05b21f1a",
   "metadata": {},
   "source": [
    "**Over 99% of the transactions in the dataset are non-fraudulent.\n",
    "We will scale the \"Amount\" feature to normalize its range and replace the original \"Amount\" column with the scaled version.\n",
    "Additionally, we will remove the \"Time\" column as it is irrelevant to the analysis.**"
   ]
  },
  {
   "cell_type": "code",
   "execution_count": 20,
   "id": "41968c42-ddd0-42c3-808c-84c68e4ce817",
   "metadata": {},
   "outputs": [],
   "source": [
    "from sklearn.preprocessing import StandardScaler\n",
    "\n",
    "scaler = StandardScaler()\n",
    "\n",
    "df['Scaled_Amount'] = scaler.fit_transform(df['Amount'].values.reshape(-1,1))"
   ]
  },
  {
   "cell_type": "code",
   "execution_count": 21,
   "id": "d6b3a92b-cddf-44a9-a2f4-1bffd491088a",
   "metadata": {},
   "outputs": [],
   "source": [
    "df.drop(columns=['Amount','Time'], inplace=True ,axis=1)\n",
    "\n",
    "Y = df['Class']\n",
    "X = df.drop(['Class'], axis=1)"
   ]
  },
  {
   "cell_type": "markdown",
   "id": "82dc57b1-45c6-492e-8cfa-e04149d4a915",
   "metadata": {},
   "source": [
    "**We will now divide the credit card dataset into training and testing sets using a 70-30 split with the train_test_split() function.**"
   ]
  },
  {
   "cell_type": "markdown",
   "id": "cc073bbf-5c4b-4273-be72-59e3d8f79068",
   "metadata": {},
   "source": [
    "***The train_test_split() function in scikit-learn is a convenient tool for dividing a dataset into training and testing sets.***\n",
    "- Parameters\n",
    "- X: Feature matrix\n",
    "- Y: Target variable\n",
    "- test_size: The proportion of the dataset to be allocated to the test set. For example, setting test_size=0.3 allocates 30% of the data for testing.\n",
    "- random_state: The seed for the random number generator, ensuring the results are reproducible when splitting the data.*"
   ]
  },
  {
   "cell_type": "code",
   "execution_count": 22,
   "id": "202a5d51-873d-4a60-9837-1155aa118fd2",
   "metadata": {},
   "outputs": [],
   "source": [
    "from sklearn.model_selection import train_test_split\n",
    "\n",
    "(train_X, test_X, train_Y, test_Y) = train_test_split(X,Y, test_size=0.3, random_state=42)"
   ]
  },
  {
   "cell_type": "code",
   "execution_count": 23,
   "id": "1b6db37c-e667-4ba6-98a7-e575d44eac7e",
   "metadata": {},
   "outputs": [
    {
     "name": "stdout",
     "output_type": "stream",
     "text": [
      "Shape of the training dataset train_X:  (199364, 29)\n",
      "Shape of the testing dataset test_X:  (85443, 29)\n"
     ]
    }
   ],
   "source": [
    "print(\"Shape of the training dataset train_X: \", train_X.shape)\n",
    "print(\"Shape of the testing dataset test_X: \", test_X.shape)"
   ]
  },
  {
   "cell_type": "markdown",
   "id": "7c7d6080-af1b-4801-bbd5-e252132ea709",
   "metadata": {},
   "source": [
    "**Implementing Machine Learning Algorithm to Credit Card Dataset**"
   ]
  },
  {
   "cell_type": "markdown",
   "id": "6daa2a9a-cb2b-4903-8aa9-ad54ad10a86f",
   "metadata": {},
   "source": [
    "We will experiment with different machine learning algorithms to identify the best model for our binary classification problem."
   ]
  },
  {
   "cell_type": "markdown",
   "id": "6fe5f9bc-555f-429a-a6a4-bb9210f3328f",
   "metadata": {},
   "source": [
    "The task is to predict one of the two class labels. We will assess the performance of various algorithms, such as Random Forest and Decision Tree, to determine the most suitable solution for our problem."
   ]
  },
  {
   "cell_type": "code",
   "execution_count": 24,
   "id": "1adbcd7f-cd58-41b9-a935-c5a4b979e147",
   "metadata": {},
   "outputs": [],
   "source": [
    "from sklearn.ensemble import RandomForestClassifier\n",
    "from sklearn.tree import DecisionTreeClassifier"
   ]
  },
  {
   "cell_type": "code",
   "execution_count": 25,
   "id": "603baa45-a240-4f24-8a87-23484dfeb3f8",
   "metadata": {},
   "outputs": [],
   "source": [
    "# Decision Tree\n",
    "decision_tree = DecisionTreeClassifier()\n",
    "\n",
    "# Random Forest\n",
    "random_forest = RandomForestClassifier(n_estimators=100)"
   ]
  },
  {
   "cell_type": "markdown",
   "id": "83371f98-b64b-4e06-8130-bacd272ea71c",
   "metadata": {},
   "source": [
    "Here we are initializing a **RandomForestClassifier** with 100 trees in the forest."
   ]
  },
  {
   "cell_type": "markdown",
   "id": "d9fea397-29b2-4e30-8435-bde991d2e400",
   "metadata": {},
   "source": [
    "A larger number of trees typically results in improved performance, although it may also increase the training time."
   ]
  },
  {
   "cell_type": "code",
   "execution_count": 26,
   "id": "307d9347-4a1c-42d5-9220-4a56ff90cec0",
   "metadata": {},
   "outputs": [],
   "source": [
    "# Decision Tree Classifier\n",
    "decision_tree.fit(train_X, train_Y)\n",
    "predictions_data = decision_tree.predict(test_X)"
   ]
  },
  {
   "cell_type": "markdown",
   "id": "4cf90abd-3412-403e-95df-e66dd186cb34",
   "metadata": {},
   "source": [
    "**Next, we will evaluate the score of the Decision Tree model.**"
   ]
  },
  {
   "cell_type": "code",
   "execution_count": 27,
   "id": "fd506982-62fc-4730-aa25-bbd45d7633a3",
   "metadata": {},
   "outputs": [
    {
     "name": "stdout",
     "output_type": "stream",
     "text": [
      "Decision Tree Score is:  99.92392589211521\n"
     ]
    }
   ],
   "source": [
    "decision_tree_score = decision_tree.score(test_X, test_Y) * 100\n",
    "\n",
    "# Printing the score of the classifier\n",
    "print(\"Decision Tree Score is: \", decision_tree_score)\n"
   ]
  },
  {
   "cell_type": "code",
   "execution_count": 28,
   "id": "0e179ded-0f7d-4105-bb72-ec703bd422ed",
   "metadata": {},
   "outputs": [],
   "source": [
    "# Random Forest\n",
    "random_forest.fit(train_X, train_Y)\n",
    "predictions_data_rf = random_forest.predict(test_X)"
   ]
  },
  {
   "cell_type": "code",
   "execution_count": 29,
   "id": "2822c26b-34d4-4e92-946c-291e6f4f6c65",
   "metadata": {},
   "outputs": [
    {
     "name": "stdout",
     "output_type": "stream",
     "text": [
      "Random Forest Score is:  99.9637185023934\n"
     ]
    }
   ],
   "source": [
    "random_forest_score = random_forest.score(test_X, test_Y) * 100\n",
    "\n",
    "# Printing the score of the Random Forest Classifiers\n",
    "print(\"Random Forest Score is: \", random_forest_score)"
   ]
  },
  {
   "cell_type": "code",
   "execution_count": 30,
   "id": "50ae4c88-7270-4f9e-9f8b-c77dce70e09f",
   "metadata": {},
   "outputs": [
    {
     "name": "stdout",
     "output_type": "stream",
     "text": [
      "Decision Tree:  99.9239\n",
      "Random Forest:  99.9637\n"
     ]
    }
   ],
   "source": [
    "# Printing the scores of the both classifiers\n",
    "print(\"Decision Tree: \", round((decision_tree_score),4))\n",
    "print(\"Random Forest: \", round((random_forest_score),4))"
   ]
  },
  {
   "cell_type": "markdown",
   "id": "9fb05e88-53d5-4fbb-abe1-f62381fc4985",
   "metadata": {},
   "source": [
    "**The Random Forest classifier produces slightly better results compared to the Decision Tree Classifier.**"
   ]
  },
  {
   "cell_type": "code",
   "execution_count": 32,
   "id": "13cffb22-c75e-4e8d-9563-27e595b754ad",
   "metadata": {},
   "outputs": [],
   "source": [
    "from sklearn.metrics import accuracy_score, precision_score, confusion_matrix, recall_score, f1_score"
   ]
  },
  {
   "cell_type": "markdown",
   "id": "587cc77c-ff63-4ba2-a800-94fcaf1456ab",
   "metadata": {},
   "source": [
    "**Decision Tree Model Evaluation**"
   ]
  },
  {
   "cell_type": "code",
   "execution_count": 33,
   "id": "6c4d0325-07a7-4a0b-b9eb-3f64f1d26207",
   "metadata": {},
   "outputs": [
    {
     "name": "stdout",
     "output_type": "stream",
     "text": [
      "Evaluation of Decision Tree Model: \n",
      "Accuracy: 0.9992\n",
      "Precision: 0.7448\n",
      "recall_score: 0.7941\n",
      "F1-Score: 0.7687\n"
     ]
    }
   ],
   "source": [
    "print(\"Evaluation of Decision Tree Model: \")\n",
    "\n",
    "print(\"Accuracy:\",round(accuracy_score(test_Y,predictions_data),4))\n",
    "print(\"Precision:\",round(precision_score(test_Y,predictions_data),4))\n",
    "print(\"recall_score:\",round(recall_score(test_Y,predictions_data),4))\n",
    "print(\"F1-Score:\",round(f1_score(test_Y,predictions_data),4))"
   ]
  },
  {
   "cell_type": "markdown",
   "id": "0233fcb7-b97f-4e8b-ad3c-037df1a7fb6b",
   "metadata": {},
   "source": [
    "**Random Forest Model Evaluation**"
   ]
  },
  {
   "cell_type": "code",
   "execution_count": 34,
   "id": "0a4ec680-3104-4aa2-a95d-8c16026e9155",
   "metadata": {},
   "outputs": [
    {
     "name": "stdout",
     "output_type": "stream",
     "text": [
      "Evaluation of Random Forest Model: \n",
      "Accuracy: 0.9996\n",
      "Precision: 0.9412\n",
      "recall_score: 0.8235\n",
      "F1-Score: 0.8784\n"
     ]
    }
   ],
   "source": [
    "print(\"Evaluation of Random Forest Model: \")\n",
    "\n",
    "print(\"Accuracy:\",round(accuracy_score(test_Y,predictions_data_rf),4))\n",
    "print(\"Precision:\",round(precision_score(test_Y,predictions_data_rf),4))\n",
    "print(\"recall_score:\",round(recall_score(test_Y,predictions_data_rf),4))\n",
    "print(\"F1-Score:\",round(f1_score(test_Y,predictions_data_rf),4))"
   ]
  },
  {
   "cell_type": "code",
   "execution_count": 35,
   "id": "38964ca2-b47b-44d2-8917-fd310c7b6898",
   "metadata": {},
   "outputs": [
    {
     "name": "stdout",
     "output_type": "stream",
     "text": [
      "   CM   -  DT\n",
      "[[85270    37]\n",
      " [   28   108]]\n"
     ]
    }
   ],
   "source": [
    "confusion_matrix_dt = confusion_matrix(test_Y, predictions_data.round())\n",
    "print(\"   CM   -  DT\") # CM = Confusion matrix and DT = Decision tree\n",
    "print(confusion_matrix_dt)"
   ]
  },
  {
   "cell_type": "code",
   "execution_count": 37,
   "id": "6dcea277-de5f-4f85-954a-d22d0cdfcb3f",
   "metadata": {},
   "outputs": [
    {
     "data": {
      "image/png": "[encoded data removed]",
      "text/plain": [
       "<Figure size 800x600 with 2 Axes>"
      ]
     },
     "metadata": {},
     "output_type": "display_data"
    }
   ],
   "source": [
    "# we will plot the confusion matrix\n",
    "plt.figure(figsize=[8,6])\n",
    "sns.heatmap(confusion_matrix_dt, annot=True , fmt='d' , cmap=\"Reds\",\n",
    "            xticklabels=[\"Predicted Non-Fraudulent\" , \"Predicted Fraudulent\"],\n",
    "            yticklabels=[\"Actual Non-Fraudulent\", \"Actual Fraudulent\"])\n",
    "plt.title(\"Confusion Matrix - Decision Tree\")\n",
    "plt.xlabel(\"Predicted Label\")\n",
    "plt.ylabel(\"True Label\")\n",
    "plt.savefig(\"Confusion Matrix1 - Decision Tree\")\n",
    "plt.show()\n",
    "\n",
    "# 0 - non fraudulent\n",
    "# 1 - fradulent"
   ]
  },
  {
   "cell_type": "markdown",
   "id": "b23ff436-0267-4ed0-ab87-ffddad613300",
   "metadata": {},
   "source": [
    "We understand from the confusion matrix (Decision Tree):"
   ]
  },
  {
   "cell_type": "markdown",
   "id": "3dd380f0-9299-4c2e-a882-de3ab742866d",
   "metadata": {},
   "source": [
    "**- Non-Fraudulent transactions:**\n",
    "\n",
    "1. True Negatives: **85,268 transactions** were accurately identified as non-fraudulent.\n",
    "2. False Positives: **39 transactions** were incorrectly classified as fraudulent.\n",
    "\n",
    "**- Fraudulent Transactions:**\n",
    "1. False Negatives: **24 fraudulent** transactions were incorrectly classified as non-fraudulent.\n",
    "2. True Positives: **112 fraudulent** transactions were accurately identified as fraudulent.\n",
    "\n",
    "**In-short Summary:**\r\n",
    "- The model accurately detected **112 fraudulent** transactions.\n",
    "- It misclassified **24 fraudulent** transactions as non-fraudulent.\n",
    "- Additionally, it correctly identified **85,268 transactions** as non-fraudulent.\n",
    "- However, it incorrectly classified **39 non-fraudulent transactions** as fraudulent.\r\n",
    "s**."
   ]
  },
  {
   "cell_type": "markdown",
   "id": "f4d01f64-27dc-457e-a67f-322ea00b0d2f",
   "metadata": {},
   "source": [
    "**Evaluation Metrics and Confusion Matrix of Random Forest model**"
   ]
  },
  {
   "cell_type": "code",
   "execution_count": 38,
   "id": "c918071b-80d7-4836-906d-3ec1ebe2ac4c",
   "metadata": {},
   "outputs": [
    {
     "name": "stdout",
     "output_type": "stream",
     "text": [
      "   CM   -  RF\n",
      "[[85300     7]\n",
      " [   24   112]]\n"
     ]
    }
   ],
   "source": [
    "# Confusion Matrix\n",
    "confusion_matrix_rf = confusion_matrix(test_Y,predictions_data_rf.round())\n",
    "print(\"   CM   -  RF\") # CM = Confusion matrix and RF = RandomForest\n",
    "print(confusion_matrix_rf)"
   ]
  },
  {
   "cell_type": "code",
   "execution_count": 39,
   "id": "fa55cc2d-81e2-426a-8f40-7131b5e00a9b",
   "metadata": {},
   "outputs": [
    {
     "data": {
      "image/png": "[encoded data removed]",
      "text/plain": [
       "<Figure size 800x600 with 2 Axes>"
      ]
     },
     "metadata": {},
     "output_type": "display_data"
    }
   ],
   "source": [
    "# we will plot the consfusion matrix\n",
    "plt.figure(figsize=[8,6])\n",
    "sns.heatmap(confusion_matrix_rf, annot=True , fmt='d' , cmap=\"Blues\",\n",
    "            xticklabels=[\"Predicted Non-Fraudulent\" , \"Predicted Fraudulent\"],\n",
    "            yticklabels=[\"Actual Non-Fraudulent\", \"Actual Fraudulent\"])\n",
    "plt.title(\"Confusion Matrix - Random Forest\")\n",
    "plt.xlabel(\"Predicted Label\")\n",
    "plt.ylabel(\"True Label\")\n",
    "plt.savefig(\"Confusion Matrix2 - Random Forest\")\n",
    "plt.show()\n",
    "\n",
    "# 0 - non fraudulent\n",
    "# 1 - fradulent"
   ]
  },
  {
   "cell_type": "markdown",
   "id": "32d6e564-e895-4146-9b9f-1c03363cc330",
   "metadata": {},
   "source": [
    "**We understand from the confusion matrix (Random Forest):**"
   ]
  },
  {
   "cell_type": "markdown",
   "id": "0c0fb599-a7ac-42da-a729-090caa5d3ed0",
   "metadata": {},
   "source": [
    "**-Non-Fraudulent Transactions**\n",
    "1. True Negatives: **85,298 transactions** were correctly classified as non-fraudulent.\n",
    "2. False Positives: **9 transactions** were incorrectly classified as fraudulent.\n",
    "\n",
    "**-Fraudulent Transactions**\n",
    "1. False Negatives: **23 fraudulent** transactions were incorrectly classified as non-fraudulent.\n",
    "2. True Positives: **113 fraudulent** transactions were correctly identified.\n",
    "\n",
    "**In-short Summary**\n",
    "1. The model successfully identified **113 fraudulent** transactions and **85,298 non-fraudulent** transactions.\n",
    "2. It misclassified **23 fraudulent** transactions as non-fraudulent and only **9 non-fraudulent** transactions as fraudulent."
   ]
  },
  {
   "cell_type": "code",
   "execution_count": 40,
   "id": "24595161-bf61-476f-9d6e-399aa320690e",
   "metadata": {},
   "outputs": [
    {
     "name": "stdout",
     "output_type": "stream",
     "text": [
      "Resampled shape of X:  (568630, 29)\n",
      "Resampled shape of Y:  (568630,)\n"
     ]
    }
   ],
   "source": [
    "# We will use the SMOT (Synthetic Minority Oversampling Technique, or SMOTE)\n",
    "# It is the method of data augumentation for the minority class.\n",
    "\n",
    "from imblearn.over_sampling import SMOTE\n",
    "\n",
    "X_resampled, Y_resampled = SMOTE().fit_resample(X,Y)\n",
    "\n",
    "print(\"Resampled shape of X: \",X_resampled.shape)\n",
    "print(\"Resampled shape of Y: \",Y_resampled.shape)"
   ]
  },
  {
   "cell_type": "code",
   "execution_count": 41,
   "id": "88509a9f-4822-408f-a5a8-865facd10cf0",
   "metadata": {},
   "outputs": [
    {
     "name": "stdout",
     "output_type": "stream",
     "text": [
      "Counter({0: 284315, 1: 284315})\n"
     ]
    }
   ],
   "source": [
    "from collections import Counter\n",
    "value_counts = Counter(Y_resampled)\n",
    "print(value_counts)"
   ]
  },
  {
   "cell_type": "code",
   "execution_count": 42,
   "id": "6d9336fa-fade-4283-a268-1d557d4f5bad",
   "metadata": {},
   "outputs": [],
   "source": [
    "(train_X, test_X, train_Y, test_Y) = train_test_split(X_resampled, Y_resampled, test_size=0.3, random_state=42)"
   ]
  },
  {
   "cell_type": "code",
   "execution_count": 43,
   "id": "d22b9022-5057-4f7c-be6a-30786b6b3758",
   "metadata": {},
   "outputs": [
    {
     "data": {
      "text/html": [
       "<style>#sk-container-id-1 {color: black;background-color: white;}#sk-container-id-1 pre{padding: 0;}#sk-container-id-1 div.sk-toggleable {background-color: white;}#sk-container-id-1 label.sk-toggleable__label {cursor: pointer;display: block;width: 100%;margin-bottom: 0;padding: 0.3em;box-sizing: border-box;text-align: center;}#sk-container-id-1 label.sk-toggleable__label-arrow:before {content: \"▸\";float: left;margin-right: 0.25em;color: #696969;}#sk-container-id-1 label.sk-toggleable__label-arrow:hover:before {color: black;}#sk-container-id-1 div.sk-estimator:hover label.sk-toggleable__label-arrow:before {color: black;}#sk-container-id-1 div.sk-toggleable__content {max-height: 0;max-width: 0;overflow: hidden;text-align: left;background-color: #f0f8ff;}#sk-container-id-1 div.sk-toggleable__content pre {margin: 0.2em;color: black;border-radius: 0.25em;background-color: #f0f8ff;}#sk-container-id-1 input.sk-toggleable__control:checked~div.sk-toggleable__content {max-height: 200px;max-width: 100%;overflow: auto;}#sk-container-id-1 input.sk-toggleable__control:checked~label.sk-toggleable__label-arrow:before {content: \"▾\";}#sk-container-id-1 div.sk-estimator input.sk-toggleable__control:checked~label.sk-toggleable__label {background-color: #d4ebff;}#sk-container-id-1 div.sk-label input.sk-toggleable__control:checked~label.sk-toggleable__label {background-color: #d4ebff;}#sk-container-id-1 input.sk-hidden--visually {border: 0;clip: rect(1px 1px 1px 1px);clip: rect(1px, 1px, 1px, 1px);height: 1px;margin: -1px;overflow: hidden;padding: 0;position: absolute;width: 1px;}#sk-container-id-1 div.sk-estimator {font-family: monospace;background-color: #f0f8ff;border: 1px dotted black;border-radius: 0.25em;box-sizing: border-box;margin-bottom: 0.5em;}#sk-container-id-1 div.sk-estimator:hover {background-color: #d4ebff;}#sk-container-id-1 div.sk-parallel-item::after {content: \"\";width: 100%;border-bottom: 1px solid gray;flex-grow: 1;}#sk-container-id-1 div.sk-label:hover label.sk-toggleable__label {background-color: #d4ebff;}#sk-container-id-1 div.sk-serial::before {content: \"\";position: absolute;border-left: 1px solid gray;box-sizing: border-box;top: 0;bottom: 0;left: 50%;z-index: 0;}#sk-container-id-1 div.sk-serial {display: flex;flex-direction: column;align-items: center;background-color: white;padding-right: 0.2em;padding-left: 0.2em;position: relative;}#sk-container-id-1 div.sk-item {position: relative;z-index: 1;}#sk-container-id-1 div.sk-parallel {display: flex;align-items: stretch;justify-content: center;background-color: white;position: relative;}#sk-container-id-1 div.sk-item::before, #sk-container-id-1 div.sk-parallel-item::before {content: \"\";position: absolute;border-left: 1px solid gray;box-sizing: border-box;top: 0;bottom: 0;left: 50%;z-index: -1;}#sk-container-id-1 div.sk-parallel-item {display: flex;flex-direction: column;z-index: 1;position: relative;background-color: white;}#sk-container-id-1 div.sk-parallel-item:first-child::after {align-self: flex-end;width: 50%;}#sk-container-id-1 div.sk-parallel-item:last-child::after {align-self: flex-start;width: 50%;}#sk-container-id-1 div.sk-parallel-item:only-child::after {width: 0;}#sk-container-id-1 div.sk-dashed-wrapped {border: 1px dashed gray;margin: 0 0.4em 0.5em 0.4em;box-sizing: border-box;padding-bottom: 0.4em;background-color: white;}#sk-container-id-1 div.sk-label label {font-family: monospace;font-weight: bold;display: inline-block;line-height: 1.2em;}#sk-container-id-1 div.sk-label-container {text-align: center;}#sk-container-id-1 div.sk-container {/* jupyter's `normalize.less` sets `[hidden] { display: none; }` but bootstrap.min.css set `[hidden] { display: none !important; }` so we also need the `!important` here to be able to override the default hidden behavior on the sphinx rendered scikit-learn.org. See: https://github.com/scikit-learn/scikit-learn/issues/21755 */display: inline-block !important;position: relative;}#sk-container-id-1 div.sk-text-repr-fallback {display: none;}</style><div id=\"sk-container-id-1\" class=\"sk-top-container\"><div class=\"sk-text-repr-fallback\"><pre>RandomForestClassifier()</pre><b>In a Jupyter environment, please rerun this cell to show the HTML representation or trust the notebook. <br />On GitHub, the HTML representation is unable to render, please try loading this page with nbviewer.org.</b></div><div class=\"sk-container\" hidden><div class=\"sk-item\"><div class=\"sk-estimator sk-toggleable\"><input class=\"sk-toggleable__control sk-hidden--visually\" id=\"sk-estimator-id-1\" type=\"checkbox\" checked><label for=\"sk-estimator-id-1\" class=\"sk-toggleable__label sk-toggleable__label-arrow\">RandomForestClassifier</label><div class=\"sk-toggleable__content\"><pre>RandomForestClassifier()</pre></div></div></div></div></div>"
      ],
      "text/plain": [
       "RandomForestClassifier()"
      ]
     },
     "execution_count": 43,
     "metadata": {},
     "output_type": "execute_result"
    }
   ],
   "source": [
    "rf_resampled = RandomForestClassifier(n_estimators=100)\n",
    "rf_resampled.fit(train_X, train_Y)"
   ]
  },
  {
   "cell_type": "markdown",
   "id": "d55bafc2-6001-4028-b216-b8531032888b",
   "metadata": {},
   "source": [
    "**In a Jupyter environment, please rerun this cell to show the HTML representation or trust the notebook.**\n",
    "**On GitHub, the HTML representation is unable to render, please try loading this page with nbviewer.org.**"
   ]
  },
  {
   "cell_type": "markdown",
   "id": "d747e372-e17a-48cd-8657-1a179ebf82e8",
   "metadata": {},
   "source": [
    "- Given that the Random Forest Algorithm out performed the Decision Tree Algorithm, we will now apply the Random Forest algorithm to our resampled data."
   ]
  },
  {
   "cell_type": "code",
   "execution_count": 44,
   "id": "86e639e2-5827-4079-b0d7-dc6097c6dc10",
   "metadata": {},
   "outputs": [],
   "source": [
    "predictions_resampled = rf_resampled.predict(test_X)\n",
    "random_forest_score_resampled = rf_resampled.score(test_X, test_Y) * 100"
   ]
  },
  {
   "cell_type": "code",
   "execution_count": 45,
   "id": "f79a40f0-f42c-4628-8164-c8072cf7bac0",
   "metadata": {},
   "outputs": [
    {
     "name": "stdout",
     "output_type": "stream",
     "text": [
      "99.99003452743142\n"
     ]
    }
   ],
   "source": [
    "print(random_forest_score_resampled)"
   ]
  },
  {
   "cell_type": "markdown",
   "id": "4fcd9dbb-05a3-42ce-8361-6ebaa66515fe",
   "metadata": {},
   "source": [
    "**Metrics and Confusion matrix Evaluation**"
   ]
  },
  {
   "cell_type": "code",
   "execution_count": 46,
   "id": "82fd6cc9-cb2e-4efa-9ec9-062d5b8193da",
   "metadata": {},
   "outputs": [
    {
     "name": "stdout",
     "output_type": "stream",
     "text": [
      "   CM   -  RF\n",
      "[[85132    17]\n",
      " [    0 85440]]\n"
     ]
    }
   ],
   "source": [
    "# Confusion Matrix\n",
    "confusion_matrix_rf_resampled= confusion_matrix(test_Y,predictions_resampled.round())\n",
    "print(\"   CM   -  RF\") # CM = Confusion matrix and RF = RandomForest\n",
    "print(confusion_matrix_rf_resampled)"
   ]
  },
  {
   "cell_type": "code",
   "execution_count": 47,
   "id": "454d4b98-8701-493f-b6ef-c0e6678261eb",
   "metadata": {},
   "outputs": [
    {
     "data": {
      "image/png": "[encoded data removed]",
      "text/plain": [
       "<Figure size 800x600 with 2 Axes>"
      ]
     },
     "metadata": {},
     "output_type": "display_data"
    }
   ],
   "source": [
    "# Confusion Matrix\n",
    "plt.figure(figsize=[8,6])\n",
    "sns.heatmap(confusion_matrix_rf_resampled, annot=True , fmt='d' , cmap=\"Greens\",\n",
    "            xticklabels=[\"Predicted Non-Fraudulent\" , \"Predicted Fraudulent\"],\n",
    "            yticklabels=[\"Actual Non-Fraudulent\", \"Actual Fraudulent\"])\n",
    "plt.title(\"Confusion Matrix - Random Forest\")\n",
    "plt.xlabel(\"Predicted Label\")\n",
    "plt.ylabel(\"True Label\")\n",
    "plt.savefig(\"Confusion Matrix3 - Random Forest\")\n",
    "plt.show()"
   ]
  },
  {
   "cell_type": "markdown",
   "id": "a1877855-7480-4559-9d2e-e596b7f96aba",
   "metadata": {},
   "source": [
    "We understand from the confusion matrix (Random Forest):\n",
    "\n",
    "**- Non-Fraudulent Transactions**\n",
    "1. True Negatives: **85,128 non-fraudulent transactions** were accurately classified.\n",
    "2. False Positives: **21 fraudulent transactions** were incorrectly classified.\n",
    "\n",
    "**- Fraudulent Transactions**\n",
    "1. False Negatives: **No fraudulent transactions** (0) were misclassified as non-fraudulent.\n",
    "2. True Positives: **85,440 fraudulent transactions** were correctly identified.\n",
    "                     \n",
    "**Insights from the Confusion Matrix**\n",
    "- The model successfully identified **85,440 fraudulent transactions** with no misclassification as non-fraudulent.\n",
    "- Additionally, it accurately classified **85,128 non-fraudulent transactions**.\n",
    "- However, it misclassified only **21 non-fraudulent transactions** as fraudulent."
   ]
  },
  {
   "cell_type": "code",
   "execution_count": 48,
   "id": "5370d199-f082-4904-842f-141846aad198",
   "metadata": {},
   "outputs": [
    {
     "name": "stdout",
     "output_type": "stream",
     "text": [
      "Evaluation of Resampled Random Forest Model: \n",
      "Accuracy: 0.9999\n",
      "Precision: 0.9998\n",
      "recall_score: 1.0\n",
      "F1-Score: 0.9999\n"
     ]
    }
   ],
   "source": [
    "print(\"Evaluation of Resampled Random Forest Model: \")\n",
    "\n",
    "print(\"Accuracy:\",round(accuracy_score(test_Y,predictions_resampled),4))\n",
    "print(\"Precision:\",round(precision_score(test_Y,predictions_resampled),4))\n",
    "print(\"recall_score:\",round(recall_score(test_Y,predictions_resampled),4))\n",
    "print(\"F1-Score:\",round(f1_score(test_Y,predictions_resampled),4))"
   ]
  },
  {
   "cell_type": "markdown",
   "id": "78953c4f-3e9b-47ee-b0c7-c6b389f9efe8",
   "metadata": {},
   "source": [
    "- The model demonstrates significantly better performance compared to the previous Random Forest classifier without oversampling.\n",
    "- By implementing techniques to address class imbalance, we have achieved an accuracy of over 99%.\n",
    "\n",
    "- To facilitate future deployment, we will import the pickle module to serialize and save the data frame and model."
   ]
  },
  {
   "cell_type": "code",
   "execution_count": 49,
   "id": "afa02462-132b-4c86-b33e-1efbb7ab8120",
   "metadata": {},
   "outputs": [],
   "source": [
    "import pickle\n",
    "pickle.dump(df,open('df.pkl','wb'))\n",
    "pickle.dump(rf_resampled,open('rf_resampled.pkl','wb'))"
   ]
  },
  {
   "cell_type": "code",
   "execution_count": null,
   "id": "0847f3d5-071a-4f53-be62-d94c4c8e995a",
   "metadata": {},
   "outputs": [],
   "source": []
  }
 ],
 "metadata": {
  "kernelspec": {
   "display_name": "Python 3 (ipykernel)",
   "language": "python",
   "name": "python3"
  },
  "language_info": {
   "codemirror_mode": {
    "name": "ipython",
    "version": 3
   },
   "file_extension": ".py",
   "mimetype": "text/x-python",
   "name": "python",
   "nbconvert_exporter": "python",
   "pygments_lexer": "ipython3",
   "version": "3.11.7"
  }
 },
 "nbformat": 4,
 "nbformat_minor": 5
}
